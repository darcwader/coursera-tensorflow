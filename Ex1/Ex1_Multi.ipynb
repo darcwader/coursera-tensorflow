{
 "cells": [
  {
   "cell_type": "code",
   "execution_count": 1,
   "metadata": {
    "collapsed": true
   },
   "outputs": [],
   "source": [
    "%matplotlib inline\n",
    "import pandas as pd\n",
    "import matplotlib.pyplot as plt\n",
    "import matplotlib\n",
    "import numpy as np\n",
    "import tensorflow as tf"
   ]
  },
  {
   "cell_type": "code",
   "execution_count": 2,
   "metadata": {
    "collapsed": true
   },
   "outputs": [],
   "source": [
    "data = pd.read_csv('ex1data2.txt', header=None)"
   ]
  },
  {
   "cell_type": "code",
   "execution_count": 31,
   "metadata": {
    "collapsed": false
   },
   "outputs": [
    {
     "name": "stdout",
     "output_type": "stream",
     "text": [
      "X shape:(47, 3)\n",
      "Y shape:(47, 1)\n"
     ]
    }
   ],
   "source": [
    "data_X = data[[0,1]]\n",
    "data_Y = data[2]\n",
    "data_M = data_X.shape[0]\n",
    "\n",
    "\n",
    "# X0 needs to be appended to data_X\n",
    "data_X = pd.concat( [\n",
    "    pd.Series(np.ones(data_M)),\n",
    "    data_X\n",
    "    ],  axis = 1)\n",
    "data_X.columns = [0, 1, 2]\n",
    "print(\"X shape:{}\".format(data_X.shape))\n",
    "\n",
    "# Cleanup data_Y\n",
    "data_Y = data_Y.reshape(data_Y.shape[0], 1)\n",
    "print(\"Y shape:{}\".format(data_Y.shape))"
   ]
  },
  {
   "cell_type": "code",
   "execution_count": 32,
   "metadata": {
    "collapsed": false
   },
   "outputs": [
    {
     "data": {
      "text/html": [
       "<div>\n",
       "<table border=\"1\" class=\"dataframe\">\n",
       "  <thead>\n",
       "    <tr style=\"text-align: right;\">\n",
       "      <th></th>\n",
       "      <th>0</th>\n",
       "      <th>1</th>\n",
       "      <th>2</th>\n",
       "    </tr>\n",
       "  </thead>\n",
       "  <tbody>\n",
       "    <tr>\n",
       "      <th>0</th>\n",
       "      <td>2104</td>\n",
       "      <td>3</td>\n",
       "      <td>399900</td>\n",
       "    </tr>\n",
       "    <tr>\n",
       "      <th>1</th>\n",
       "      <td>1600</td>\n",
       "      <td>3</td>\n",
       "      <td>329900</td>\n",
       "    </tr>\n",
       "    <tr>\n",
       "      <th>2</th>\n",
       "      <td>2400</td>\n",
       "      <td>3</td>\n",
       "      <td>369000</td>\n",
       "    </tr>\n",
       "    <tr>\n",
       "      <th>3</th>\n",
       "      <td>1416</td>\n",
       "      <td>2</td>\n",
       "      <td>232000</td>\n",
       "    </tr>\n",
       "    <tr>\n",
       "      <th>4</th>\n",
       "      <td>3000</td>\n",
       "      <td>4</td>\n",
       "      <td>539900</td>\n",
       "    </tr>\n",
       "  </tbody>\n",
       "</table>\n",
       "</div>"
      ],
      "text/plain": [
       "      0  1       2\n",
       "0  2104  3  399900\n",
       "1  1600  3  329900\n",
       "2  2400  3  369000\n",
       "3  1416  2  232000\n",
       "4  3000  4  539900"
      ]
     },
     "execution_count": 32,
     "metadata": {},
     "output_type": "execute_result"
    }
   ],
   "source": [
    "data.head() #2 = y"
   ]
  },
  {
   "cell_type": "code",
   "execution_count": 33,
   "metadata": {
    "collapsed": false
   },
   "outputs": [
    {
     "data": {
      "text/html": [
       "<div>\n",
       "<table border=\"1\" class=\"dataframe\">\n",
       "  <thead>\n",
       "    <tr style=\"text-align: right;\">\n",
       "      <th></th>\n",
       "      <th>0</th>\n",
       "      <th>1</th>\n",
       "      <th>2</th>\n",
       "    </tr>\n",
       "  </thead>\n",
       "  <tbody>\n",
       "    <tr>\n",
       "      <th>0</th>\n",
       "      <td>1</td>\n",
       "      <td>0.130010</td>\n",
       "      <td>-0.223675</td>\n",
       "    </tr>\n",
       "    <tr>\n",
       "      <th>1</th>\n",
       "      <td>1</td>\n",
       "      <td>-0.504190</td>\n",
       "      <td>-0.223675</td>\n",
       "    </tr>\n",
       "    <tr>\n",
       "      <th>2</th>\n",
       "      <td>1</td>\n",
       "      <td>0.502476</td>\n",
       "      <td>-0.223675</td>\n",
       "    </tr>\n",
       "    <tr>\n",
       "      <th>3</th>\n",
       "      <td>1</td>\n",
       "      <td>-0.735723</td>\n",
       "      <td>-1.537767</td>\n",
       "    </tr>\n",
       "    <tr>\n",
       "      <th>4</th>\n",
       "      <td>1</td>\n",
       "      <td>1.257476</td>\n",
       "      <td>1.090417</td>\n",
       "    </tr>\n",
       "  </tbody>\n",
       "</table>\n",
       "</div>"
      ],
      "text/plain": [
       "   0         1         2\n",
       "0  1  0.130010 -0.223675\n",
       "1  1 -0.504190 -0.223675\n",
       "2  1  0.502476 -0.223675\n",
       "3  1 -0.735723 -1.537767\n",
       "4  1  1.257476  1.090417"
      ]
     },
     "execution_count": 33,
     "metadata": {},
     "output_type": "execute_result"
    }
   ],
   "source": [
    "data_X_Norm = ( data_X - data_X.mean() ) / data_X.std()\n",
    "data_X_Norm[0] = 1\n",
    "data_X_Norm.head()"
   ]
  },
  {
   "cell_type": "code",
   "execution_count": 42,
   "metadata": {
    "collapsed": false
   },
   "outputs": [
    {
     "name": "stdout",
     "output_type": "stream",
     "text": [
      "Final Theta:\n",
      "[[ 334302.06344143]\n",
      " [ 100087.11558706]\n",
      " [   3673.54883909]]\n"
     ]
    },
    {
     "data": {
      "text/plain": [
       "<matplotlib.legend.Legend at 0x11f8f4cc0>"
      ]
     },
     "execution_count": 42,
     "metadata": {},
     "output_type": "execute_result"
    },
    {
     "data": {
      "image/png": "[encoded data removed]",
      "text/plain": [
       "<matplotlib.figure.Figure at 0x11fa02ba8>"
      ]
     },
     "metadata": {},
     "output_type": "display_data"
    }
   ],
   "source": [
    "# Tweak params\n",
    "learning_rate = 0.01\n",
    "iterations = 400\n",
    "\n",
    "# Gradient Descent Code\n",
    "tf.reset_default_graph() #reset all placeholder's if we are running this cell multiple times\n",
    "\n",
    "x = tf.placeholder(tf.float64)\n",
    "y = tf.placeholder(tf.float64) \n",
    "m = tf.constant(data_M , dtype=tf.float64)\n",
    "\n",
    "# h(x) = 𝜃'x\n",
    "theta = tf.Variable(tf.zeros([3, 1], dtype=tf.float64), dtype=tf.float64)\n",
    "hx = tf.matmul(x, theta)\n",
    "\n",
    "J = tf.div(tf.reduce_mean(tf.square(tf.sub(hx, y))),2.0)\n",
    "optimizer = tf.train.GradientDescentOptimizer(learning_rate).minimize(J)\n",
    "\n",
    "with tf.Session() as sess:    \n",
    "    J_hist = np.zeros(iterations)\n",
    "    sess.run(tf.initialize_all_variables())\n",
    "    \n",
    "    for i in range(iterations):\n",
    "        _, J_hist[i] = sess.run([optimizer, J], feed_dict={x: data_X_Norm, y : data_Y})\n",
    "    \n",
    "    finalTheta = sess.run(theta)\n",
    "\n",
    "print(\"Final Theta:\")\n",
    "print(finalTheta)\n",
    "\n",
    "plt.plot(J_hist, label='Cost')\n",
    "plt.legend()"
   ]
  },
  {
   "cell_type": "code",
   "execution_count": null,
   "metadata": {
    "collapsed": true
   },
   "outputs": [],
   "source": []
  }
 ],
 "metadata": {
  "anaconda-cloud": {},
  "kernelspec": {
   "display_name": "Python [conda env:sdcn]",
   "language": "python",
   "name": "conda-env-sdcn-py"
  },
  "language_info": {
   "codemirror_mode": {
    "name": "ipython",
    "version": 3
   },
   "file_extension": ".py",
   "mimetype": "text/x-python",
   "name": "python",
   "nbconvert_exporter": "python",
   "pygments_lexer": "ipython3",
   "version": "3.5.2"
  }
 },
 "nbformat": 4,
 "nbformat_minor": 1
}
