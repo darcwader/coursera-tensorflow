{
 "cells": [
  {
   "cell_type": "code",
   "execution_count": 3,
   "metadata": {
    "collapsed": true
   },
   "outputs": [],
   "source": [
    "import tensorflow as tf"
   ]
  },
  {
   "cell_type": "code",
   "execution_count": 9,
   "metadata": {
    "collapsed": true
   },
   "outputs": [],
   "source": [
    "%matplotlib inline\n",
    "import matplotlib\n",
    "import matplotlib.pyplot as plt\n",
    "import numpy as np\n",
    "import pandas as pb"
   ]
  },
  {
   "cell_type": "code",
   "execution_count": 15,
   "metadata": {
    "collapsed": false
   },
   "outputs": [
    {
     "name": "stdout",
     "output_type": "stream",
     "text": [
      "[ 1.7503829  -1.23689377 -0.64396691 -1.79434538  0.72982782  0.58233815\n",
      " -0.61570287  1.36313498  1.31029618  1.46514583 -0.10475614 -1.71916735\n",
      "  0.04574341  0.67659396 -1.33866656 -0.0578696   0.50534457  1.46878529\n",
      "  1.18695927  0.24767463  0.14536212  0.057338    0.70954037  0.5330193\n",
      "  1.37779295  0.39134592 -1.22061074  1.93480587  1.83382916 -1.03072762\n",
      " -1.25531316 -1.34221232 -0.88055152  0.26736173  1.08612239 -1.27374113\n",
      " -0.10867754 -0.02280853 -1.03893697  0.03754317 -0.76313162  0.96624571\n",
      "  0.335767    0.97184312  0.70901752  0.76378667  0.1528323  -1.24388635\n",
      " -0.47226539 -1.21483767 -0.50640398 -0.18135907 -1.16808212  1.05327106\n",
      " -0.38306075  0.72214764  1.25924134  0.53446513 -0.58725178  1.74001813\n",
      "  0.15616626 -1.05060697  0.55217397 -0.32619053  0.02576064 -0.39380091\n",
      "  0.02600487  0.6488449  -1.11057615  0.31150866 -0.6047411   1.51856005\n",
      "  0.14021973  0.48458683 -0.81278718  0.57930171  0.68414837  0.15189454\n",
      " -0.94308859  0.24147746  0.3642264   0.31094602  0.7485128   1.18479943\n",
      "  0.33190531 -1.23410821 -0.4786216   0.20395197  1.05749214  0.05284531\n",
      "  0.40164092 -0.65521848 -0.13053271  0.12496688  0.58333319 -0.8969869\n",
      "  1.78168547  0.07576551 -0.16270204 -0.14322668]\n"
     ]
    },
    {
     "data": {
      "image/png": "[encoded data removed]",
      "text/plain": [
       "<matplotlib.figure.Figure at 0x116e59ef0>"
      ]
     },
     "metadata": {},
     "output_type": "display_data"
    }
   ],
   "source": [
    "rnd = tf.truncated_normal([100])\n",
    "\n",
    "with tf.Session() as sess:\n",
    "    res = sess.run(rnd)\n",
    "    print(res)\n",
    "    plt.figure()\n",
    "    plt.hist(res)\n",
    "    plt.show()"
   ]
  },
  {
   "cell_type": "code",
   "execution_count": null,
   "metadata": {
    "collapsed": true
   },
   "outputs": [],
   "source": []
  }
 ],
 "metadata": {
  "anaconda-cloud": {},
  "kernelspec": {
   "display_name": "Python [conda env:sdcn]",
   "language": "python",
   "name": "conda-env-sdcn-py"
  },
  "language_info": {
   "codemirror_mode": {
    "name": "ipython",
    "version": 3
   },
   "file_extension": ".py",
   "mimetype": "text/x-python",
   "name": "python",
   "nbconvert_exporter": "python",
   "pygments_lexer": "ipython3",
   "version": "3.5.2"
  }
 },
 "nbformat": 4,
 "nbformat_minor": 1
}
